{
 "cells": [
  {
   "cell_type": "code",
   "execution_count": 1,
   "id": "ea28097d-de45-4854-a507-58e3633d252f",
   "metadata": {},
   "outputs": [],
   "source": [
    "%matplotlib widget\n",
    "import pandas as pd\n",
    "import torch\n",
    "from torch import nn\n",
    "import torch.nn.functional as F\n",
    "import os, glob\n",
    "\n",
    "device = \"cuda\" if torch.cuda.is_available() else \"cpu\""
   ]
  },
  {
   "cell_type": "code",
   "execution_count": 2,
   "id": "9444205e-c739-4faa-901c-665492e70119",
   "metadata": {},
   "outputs": [],
   "source": [
    "from sklearn.model_selection import train_test_split\n",
    "from torch.utils.data import DataLoader, Dataset\n",
    "from torch.nn.utils.rnn import pad_sequence"
   ]
  },
  {
   "cell_type": "code",
   "execution_count": 3,
   "id": "a116a429-e564-4ecf-8fc9-c77fa4ee24bd",
   "metadata": {},
   "outputs": [],
   "source": [
    "file = glob.glob(os.path.expanduser(\"~/Documents/projects/chatgpt-from-scratch/data/*.csv\"))[0]\n",
    "df = pd.read_csv(file, index_col=0).dropna(how=\"any\", axis=0)"
   ]
  },
  {
   "cell_type": "code",
   "execution_count": 4,
   "id": "a260aecf-be78-4f7e-b1f0-5f20151fec4b",
   "metadata": {},
   "outputs": [],
   "source": [
    "text = df[\"statement\"].tolist()"
   ]
  },
  {
   "cell_type": "code",
   "execution_count": 55,
   "id": "3a023b3b-d22a-4fcb-8741-ddef63861699",
   "metadata": {},
   "outputs": [],
   "source": [
    "from tokenizers import Tokenizer\n",
    "from tokenizers.models import BPE\n",
    "from tokenizers.trainers import BpeTrainer\n",
    "from tokenizers.pre_tokenizers import Whitespace\n",
    "tokenizer = Tokenizer(BPE(unk_token=\"[UNK]\"))\n",
    "trainer = BpeTrainer(vocab_size=30000, min_frequency=3, special_tokens=[\"[UNK]\", \"[CLS]\", \"[SEP]\", \"[PAD]\", \"[MASK]\"])\n",
    "tokenizer.pre_tokenizer = Whitespace()"
   ]
  },
  {
   "cell_type": "code",
   "execution_count": 56,
   "id": "03ad63a4-c6b0-48a0-b375-daa902748694",
   "metadata": {},
   "outputs": [
    {
     "name": "stdout",
     "output_type": "stream",
     "text": [
      "\n",
      "\n",
      "\n"
     ]
    }
   ],
   "source": [
    "tokenizer.train_from_iterator(text, trainer)"
   ]
  },
  {
   "cell_type": "code",
   "execution_count": 57,
   "id": "af1c85e2-8642-4afc-a08a-93ad821f0f73",
   "metadata": {},
   "outputs": [],
   "source": [
    "tokenizer.save(\"../data/tokenizer-mental-health.json\")"
   ]
  },
  {
   "cell_type": "code",
   "execution_count": 58,
   "id": "fafdc413-040d-408f-9e66-7250cbd604df",
   "metadata": {},
   "outputs": [],
   "source": [
    "tokens = tokenizer.encode_batch(text)"
   ]
  },
  {
   "cell_type": "code",
   "execution_count": 59,
   "id": "d6fa2d0b-ab77-4a3d-8d60-5ca9183827bb",
   "metadata": {},
   "outputs": [
    {
     "data": {
      "text/plain": [
       "[2050, 417, 9994]"
      ]
     },
     "execution_count": 59,
     "metadata": {},
     "output_type": "execute_result"
    }
   ],
   "source": [
    "tokens[0].ids"
   ]
  },
  {
   "cell_type": "code",
   "execution_count": 60,
   "id": "9913005d-f292-4d0c-a89e-b4e07039d965",
   "metadata": {},
   "outputs": [],
   "source": [
    "test = set()\n",
    "\n",
    "for item in tokens:\n",
    "    test = set(item.ids) | test"
   ]
  },
  {
   "cell_type": "code",
   "execution_count": 61,
   "id": "c7200dd7-eae6-4696-b4e4-64cfb7c35992",
   "metadata": {},
   "outputs": [
    {
     "data": {
      "text/plain": [
       "29024"
      ]
     },
     "execution_count": 61,
     "metadata": {},
     "output_type": "execute_result"
    }
   ],
   "source": [
    "len(test)"
   ]
  },
  {
   "cell_type": "code",
   "execution_count": 5,
   "id": "bbcdfe97-8d21-48e6-bca3-6729ffbf6780",
   "metadata": {},
   "outputs": [],
   "source": [
    "encoder = {s:i+1 for i, s in enumerate(sorted(temp))}\n",
    "decoder = {i:s for s, i in encoder.items()}"
   ]
  },
  {
   "cell_type": "code",
   "execution_count": 6,
   "id": "790b13df-3aa4-4347-b208-d3b9543a93ef",
   "metadata": {},
   "outputs": [],
   "source": [
    "max_length = int(df[\"statement\"].apply(len).quantile(0.9))"
   ]
  },
  {
   "cell_type": "code",
   "execution_count": 7,
   "id": "75392d67-e32e-49ed-9722-ab8eeeb9b38a",
   "metadata": {},
   "outputs": [],
   "source": [
    "threshold = df.groupby(\"status\").count().quantile(0.7)"
   ]
  },
  {
   "cell_type": "code",
   "execution_count": 8,
   "id": "b0e15b1f-f42c-4fff-81d9-81db03e31a7a",
   "metadata": {},
   "outputs": [
    {
     "data": {
      "text/plain": [
       "np.float64(11602.399999999996)"
      ]
     },
     "execution_count": 8,
     "metadata": {},
     "output_type": "execute_result"
    }
   ],
   "source": [
    "threshold.values[0]"
   ]
  },
  {
   "cell_type": "code",
   "execution_count": 9,
   "id": "7ad90b34-57c6-47d1-be64-f42b5548fad3",
   "metadata": {},
   "outputs": [
    {
     "name": "stdout",
     "output_type": "stream",
     "text": [
      "Anxiety, 3841\n",
      "Suicidal, 10652\n",
      "Stress, 2587\n",
      "Bipolar, 2777\n",
      "Personality disorder, 1077\n"
     ]
    }
   ],
   "source": [
    "for status in df[\"status\"].unique():\n",
    "    _data = df[df[\"status\"] == status]\n",
    "    if len(_data) < threshold.values[0]:\n",
    "        print(f\"{status}, {len(_data)}\")\n",
    "        n = threshold.values[0] // len(_data)\n",
    "        for _ in range(int(n)):\n",
    "            df = pd.concat((df, _data))"
   ]
  },
  {
   "cell_type": "code",
   "execution_count": 10,
   "id": "5a3be1db-56f0-4843-bf00-9bdc0e833fac",
   "metadata": {},
   "outputs": [
    {
     "data": {
      "text/html": [
       "<div>\n",
       "<style scoped>\n",
       "    .dataframe tbody tr th:only-of-type {\n",
       "        vertical-align: middle;\n",
       "    }\n",
       "\n",
       "    .dataframe tbody tr th {\n",
       "        vertical-align: top;\n",
       "    }\n",
       "\n",
       "    .dataframe thead th {\n",
       "        text-align: right;\n",
       "    }\n",
       "</style>\n",
       "<table border=\"1\" class=\"dataframe\">\n",
       "  <thead>\n",
       "    <tr style=\"text-align: right;\">\n",
       "      <th></th>\n",
       "      <th>statement</th>\n",
       "    </tr>\n",
       "    <tr>\n",
       "      <th>status</th>\n",
       "      <th></th>\n",
       "    </tr>\n",
       "  </thead>\n",
       "  <tbody>\n",
       "    <tr>\n",
       "      <th>Anxiety</th>\n",
       "      <td>15364</td>\n",
       "    </tr>\n",
       "    <tr>\n",
       "      <th>Bipolar</th>\n",
       "      <td>13885</td>\n",
       "    </tr>\n",
       "    <tr>\n",
       "      <th>Depression</th>\n",
       "      <td>15404</td>\n",
       "    </tr>\n",
       "    <tr>\n",
       "      <th>Normal</th>\n",
       "      <td>16343</td>\n",
       "    </tr>\n",
       "    <tr>\n",
       "      <th>Personality disorder</th>\n",
       "      <td>11847</td>\n",
       "    </tr>\n",
       "    <tr>\n",
       "      <th>Stress</th>\n",
       "      <td>12935</td>\n",
       "    </tr>\n",
       "    <tr>\n",
       "      <th>Suicidal</th>\n",
       "      <td>21304</td>\n",
       "    </tr>\n",
       "  </tbody>\n",
       "</table>\n",
       "</div>"
      ],
      "text/plain": [
       "                      statement\n",
       "status                         \n",
       "Anxiety                   15364\n",
       "Bipolar                   13885\n",
       "Depression                15404\n",
       "Normal                    16343\n",
       "Personality disorder      11847\n",
       "Stress                    12935\n",
       "Suicidal                  21304"
      ]
     },
     "execution_count": 10,
     "metadata": {},
     "output_type": "execute_result"
    }
   ],
   "source": [
    "df.groupby(\"status\").count()"
   ]
  },
  {
   "cell_type": "code",
   "execution_count": 16,
   "id": "31687bc6-e1ee-4d96-8d7f-e19d18259d33",
   "metadata": {},
   "outputs": [],
   "source": [
    "statements = df[\"statement\"].values\n",
    "labels = df[\"status\"].values\n",
    "\n",
    "from sklearn.preprocessing import LabelEncoder\n",
    "\n",
    "label_encoder = LabelEncoder()\n",
    "encoded_labels = label_encoder.fit_transform(labels)"
   ]
  },
  {
   "cell_type": "code",
   "execution_count": 17,
   "id": "55011b94-e438-487e-86d0-24eb80864b92",
   "metadata": {},
   "outputs": [],
   "source": [
    "train_statements, val_statements, train_labels, val_labels = train_test_split(statements, encoded_labels, test_size=0.2, random_state=42)"
   ]
  },
  {
   "cell_type": "code",
   "execution_count": 18,
   "id": "2e8d4c0c-7acc-4f09-b164-c583b516b3ee",
   "metadata": {},
   "outputs": [],
   "source": [
    "DROPOUT = 0.2\n",
    "BATCH_SIZE = 32\n",
    "D_MODEL = 128\n",
    "EPOCH = 10"
   ]
  },
  {
   "cell_type": "code",
   "execution_count": 19,
   "id": "115ab97a-5418-4820-9fad-08f3514dc539",
   "metadata": {},
   "outputs": [],
   "source": [
    "class SentimentDataset(Dataset):\n",
    "    def __init__(self, statements, labels, tokenizer, max_length=1000):\n",
    "        self.statements = statements\n",
    "        self.labels = labels\n",
    "        self.tokenizer = tokenizer\n",
    "        self.max_length = max_length\n",
    "\n",
    "    def __len__(self):\n",
    "        return len(self.statements)\n",
    "\n",
    "    def __getitem__(self, idx):\n",
    "        statement = self.statements[idx]\n",
    "        label = self.labels[idx]\n",
    "        tokens = self.tokenizer(statement)\n",
    "        if len(tokens) > self.max_length:\n",
    "            i_start = torch.randint(low=0, high=len(tokens) - self.max_length + 1, size=(1, )).item()\n",
    "            tokens = tokens[i_start:i_start+self.max_length]\n",
    "        tokens = torch.tensor(tokens)\n",
    "\n",
    "        return tokens, torch.tensor(label)\n",
    "\n",
    "def collate_fn(batch):\n",
    "    tokens, labels = zip(*batch)\n",
    "    tokens_padded = pad_sequence(tokens, batch_first=True, padding_value=0)\n",
    "    labels = torch.stack(labels)\n",
    "    return tokens_padded, labels"
   ]
  },
  {
   "cell_type": "code",
   "execution_count": 20,
   "id": "0d2ec4d7-fa7a-41cb-a3fc-88ce7c1771f9",
   "metadata": {},
   "outputs": [],
   "source": [
    "import math\n",
    "\n",
    "class PositionalEncoding(nn.Module):\n",
    "    def __init__(self, d_model, max_len=5000):\n",
    "        super(PositionalEncoding, self).__init__()\n",
    "        pe = torch.zeros(max_len, d_model)\n",
    "        position = torch.arange(0, max_len, dtype=torch.float).unsqueeze(1)\n",
    "        div_term = torch.exp(torch.arange(0, d_model, 2).float() * (-math.log(10000.0) / d_model))\n",
    "        pe[:, 0::2] = torch.sin(position * div_term)\n",
    "        pe[:, 1::2] = torch.cos(position * div_term)\n",
    "        pe = pe.unsqueeze(0).transpose(0, 1)\n",
    "        self.register_buffer('pe', pe)\n",
    "\n",
    "    def forward(self, x):\n",
    "        x = x + self.pe[:x.size(0), :]\n",
    "        return x\n",
    "\n",
    "class CustomTransformerModel(nn.Module):\n",
    "    def __init__(self, vocab_size, d_model, nhead, num_encoder_layers, num_classes):\n",
    "        super(CustomTransformerModel, self).__init__()\n",
    "        self.embedding = nn.Embedding(vocab_size, d_model)\n",
    "        self.pos_encoder = PositionalEncoding(d_model)\n",
    "        encoder_layers = nn.TransformerEncoderLayer(d_model, nhead, batch_first=True, dropout=DROPOUT)\n",
    "        self.transformer_encoder = nn.TransformerEncoder(encoder_layers, num_encoder_layers)\n",
    "        self.fc = nn.Linear(d_model, num_classes)\n",
    "    \n",
    "    def forward(self, src):\n",
    "        src = self.embedding(src) * math.sqrt(self.embedding.embedding_dim)\n",
    "        src = self.pos_encoder(src)\n",
    "        output = self.transformer_encoder(src)\n",
    "        output = output.mean(dim=1)  # Global average pooling\n",
    "        output = self.fc(output)\n",
    "        return output\n"
   ]
  },
  {
   "cell_type": "code",
   "execution_count": 21,
   "id": "eb3c9066-01bb-47d2-973e-6f0bb1938b83",
   "metadata": {},
   "outputs": [],
   "source": [
    "# Assume you have a tokenizer function\n",
    "def simple_tokenizer(text):\n",
    "    return [encoder[c] for c in text]  # Simple example: convert each character to its ASCII value\n",
    "\n",
    "# Create datasets\n",
    "train_dataset = SentimentDataset(train_statements, train_labels, tokenizer=simple_tokenizer)\n",
    "val_dataset = SentimentDataset(val_statements, val_labels, tokenizer=simple_tokenizer)\n",
    "\n",
    "# Data loaders\n",
    "train_loader = DataLoader(train_dataset, batch_size=32, collate_fn=collate_fn, shuffle=True)\n",
    "val_loader = DataLoader(val_dataset, batch_size=32, collate_fn=collate_fn)"
   ]
  },
  {
   "cell_type": "code",
   "execution_count": 22,
   "id": "9ce50368-1cfc-47ce-99ff-e338d97a5d41",
   "metadata": {},
   "outputs": [],
   "source": [
    "# Instantiate the model\n",
    "vocab_size = len(temp)  # Based on simple_tokenizer, you may need to adjust this based on your tokenizer\n",
    "model = CustomTransformerModel(vocab_size=vocab_size, d_model=D_MODEL, nhead=8, num_encoder_layers=6, num_classes=len(label_encoder.classes_)).to(device)"
   ]
  },
  {
   "cell_type": "code",
   "execution_count": 27,
   "id": "a9a90e67-4c17-43ee-befc-aeb785e812f9",
   "metadata": {},
   "outputs": [
    {
     "name": "stderr",
     "output_type": "stream",
     "text": [
      "/tmp/ipykernel_91337/3216530596.py:1: FutureWarning: You are using `torch.load` with `weights_only=False` (the current default value), which uses the default pickle module implicitly. It is possible to construct malicious pickle data which will execute arbitrary code during unpickling (See https://github.com/pytorch/pytorch/blob/main/SECURITY.md#untrusted-models for more details). In a future release, the default value for `weights_only` will be flipped to `True`. This limits the functions that could be executed during unpickling. Arbitrary objects will no longer be allowed to be loaded via this mode unless they are explicitly allowlisted by the user via `torch.serialization.add_safe_globals`. We recommend you start setting `weights_only=True` for any use case where you don't have full control of the loaded file. Please open an issue on GitHub for any issues related to this experimental feature.\n",
      "  model_state_dict = torch.load(\"../model_state.pth\")\n"
     ]
    },
    {
     "data": {
      "text/plain": [
       "<All keys matched successfully>"
      ]
     },
     "execution_count": 27,
     "metadata": {},
     "output_type": "execute_result"
    }
   ],
   "source": [
    "model_state_dict = torch.load(\"../model_state.pth\")\n",
    "model.load_state_dict(model_state_dict)"
   ]
  },
  {
   "cell_type": "code",
   "execution_count": 28,
   "id": "2566e349-f5c1-429b-ac6a-790eba872392",
   "metadata": {},
   "outputs": [
    {
     "data": {
      "text/plain": [
       "CustomTransformerModel(\n",
       "  (embedding): Embedding(393, 128)\n",
       "  (pos_encoder): PositionalEncoding()\n",
       "  (transformer_encoder): TransformerEncoder(\n",
       "    (layers): ModuleList(\n",
       "      (0-5): 6 x TransformerEncoderLayer(\n",
       "        (self_attn): MultiheadAttention(\n",
       "          (out_proj): NonDynamicallyQuantizableLinear(in_features=128, out_features=128, bias=True)\n",
       "        )\n",
       "        (linear1): Linear(in_features=128, out_features=2048, bias=True)\n",
       "        (dropout): Dropout(p=0.2, inplace=False)\n",
       "        (linear2): Linear(in_features=2048, out_features=128, bias=True)\n",
       "        (norm1): LayerNorm((128,), eps=1e-05, elementwise_affine=True)\n",
       "        (norm2): LayerNorm((128,), eps=1e-05, elementwise_affine=True)\n",
       "        (dropout1): Dropout(p=0.2, inplace=False)\n",
       "        (dropout2): Dropout(p=0.2, inplace=False)\n",
       "      )\n",
       "    )\n",
       "  )\n",
       "  (fc): Linear(in_features=128, out_features=7, bias=True)\n",
       ")"
      ]
     },
     "execution_count": 28,
     "metadata": {},
     "output_type": "execute_result"
    }
   ],
   "source": [
    "model.eval()"
   ]
  }
 ],
 "metadata": {
  "kernelspec": {
   "display_name": "llm",
   "language": "python",
   "name": "llm"
  },
  "language_info": {
   "codemirror_mode": {
    "name": "ipython",
    "version": 3
   },
   "file_extension": ".py",
   "mimetype": "text/x-python",
   "name": "python",
   "nbconvert_exporter": "python",
   "pygments_lexer": "ipython3",
   "version": "3.12.0"
  }
 },
 "nbformat": 4,
 "nbformat_minor": 5
}
