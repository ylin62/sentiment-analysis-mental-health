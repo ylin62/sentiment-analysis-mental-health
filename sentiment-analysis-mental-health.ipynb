{
 "cells": [
  {
   "cell_type": "code",
   "execution_count": 1,
   "id": "ea28097d-de45-4854-a507-58e3633d252f",
   "metadata": {},
   "outputs": [],
   "source": [
    "%matplotlib widget\n",
    "%reload_ext autoreload\n",
    "\n",
    "%autoreload 2\n",
    "    \n",
    "import os, glob, datetime, csv\n",
    "from functools import partial\n",
    "import pandas as pd\n",
    "import numpy as np\n",
    "from sklearn.model_selection import train_test_split\n",
    "from sklearn.preprocessing import LabelEncoder\n",
    "import torch\n",
    "from torch import nn\n",
    "from torch.utils.data import DataLoader, Dataset\n",
    "from tokenizers import Tokenizer\n",
    "\n",
    "device = \"cuda\" if torch.cuda.is_available() else \"cpu\""
   ]
  },
  {
   "cell_type": "code",
   "execution_count": 2,
   "id": "2e668944-ce4e-441b-ab85-65a7a44fb381",
   "metadata": {},
   "outputs": [],
   "source": [
    "import sentiment_analysis\n",
    "from sentiment_analysis import SentimentDataset, CustomTransformerModel, collate_fn"
   ]
  },
  {
   "cell_type": "code",
   "execution_count": 3,
   "id": "a116a429-e564-4ecf-8fc9-c77fa4ee24bd",
   "metadata": {},
   "outputs": [],
   "source": [
    "file = glob.glob(\"data/*.csv\")[0]\n",
    "df = pd.read_csv(file, index_col=0).dropna(how=\"any\", axis=0)"
   ]
  },
  {
   "cell_type": "markdown",
   "id": "17ee10e2-2ca8-4e7c-a47c-c6ecc8b77810",
   "metadata": {
    "jp-MarkdownHeadingCollapsed": true
   },
   "source": [
    "### Build tokenizer"
   ]
  },
  {
   "cell_type": "code",
   "execution_count": 7,
   "id": "3c5d1c2f-4402-48d8-ab73-64931be301af",
   "metadata": {
    "scrolled": true
   },
   "outputs": [
    {
     "name": "stdout",
     "output_type": "stream",
     "text": [
      "\n",
      "\n",
      "\n"
     ]
    }
   ],
   "source": [
    "from tokenizers.models import BPE\n",
    "from tokenizers.trainers import BpeTrainer\n",
    "from tokenizers.pre_tokenizers import Whitespace\n",
    "\n",
    "text = df[\"statement\"].tolist()\n",
    "\n",
    "tokenizer = Tokenizer(BPE(unk_token=\"[UNK]\"))\n",
    "trainer = BpeTrainer(vocab_size=30000, min_frequency=3, special_tokens=[\"[UNK]\", \"[CLS]\", \"[SEP]\", \"[PAD]\", \"[MASK]\"])\n",
    "tokenizer.pre_tokenizer = Whitespace()\n",
    "\n",
    "tokenizer.train_from_iterator(text, trainer)\n",
    "\n",
    "tokenizer.save(\"data/tokenizer-mental-health.json\")"
   ]
  },
  {
   "cell_type": "markdown",
   "id": "b6ae8121-9cbb-484e-8317-9e5ec9237b2d",
   "metadata": {},
   "source": [
    "### Modeling"
   ]
  },
  {
   "cell_type": "markdown",
   "id": "4f6d4248-a1c3-469a-a36c-619f4449627d",
   "metadata": {},
   "source": [
    "#### Eval tokenizer"
   ]
  },
  {
   "cell_type": "code",
   "execution_count": 4,
   "id": "06d45327-555e-4e75-8ed1-322861cb3acf",
   "metadata": {},
   "outputs": [],
   "source": [
    "tokenizer = Tokenizer.from_file(\"data/tokenizer-mental-health.json\")"
   ]
  },
  {
   "cell_type": "code",
   "execution_count": 5,
   "id": "a741a34a-05ae-40ed-9332-a2ef1f63c3a5",
   "metadata": {},
   "outputs": [
    {
     "data": {
      "text/plain": [
       "['on', 'my', 'gosh']"
      ]
     },
     "execution_count": 5,
     "metadata": {},
     "output_type": "execute_result"
    }
   ],
   "source": [
    "tokenizer.encode(\"on my gosh\").tokens"
   ]
  },
  {
   "cell_type": "markdown",
   "id": "2f424c82-4c56-4e8b-80c1-be736acaae38",
   "metadata": {},
   "source": [
    "#### Augument data to make data balance"
   ]
  },
  {
   "cell_type": "code",
   "execution_count": 6,
   "id": "d3cc6fb4-61b9-446e-802b-8d763d3e2d7b",
   "metadata": {},
   "outputs": [
    {
     "data": {
      "text/html": [
       "<div>\n",
       "<style scoped>\n",
       "    .dataframe tbody tr th:only-of-type {\n",
       "        vertical-align: middle;\n",
       "    }\n",
       "\n",
       "    .dataframe tbody tr th {\n",
       "        vertical-align: top;\n",
       "    }\n",
       "\n",
       "    .dataframe thead th {\n",
       "        text-align: right;\n",
       "    }\n",
       "</style>\n",
       "<table border=\"1\" class=\"dataframe\">\n",
       "  <thead>\n",
       "    <tr style=\"text-align: right;\">\n",
       "      <th></th>\n",
       "      <th>statement</th>\n",
       "    </tr>\n",
       "    <tr>\n",
       "      <th>status</th>\n",
       "      <th></th>\n",
       "    </tr>\n",
       "  </thead>\n",
       "  <tbody>\n",
       "    <tr>\n",
       "      <th>Anxiety</th>\n",
       "      <td>3841</td>\n",
       "    </tr>\n",
       "    <tr>\n",
       "      <th>Bipolar</th>\n",
       "      <td>2777</td>\n",
       "    </tr>\n",
       "    <tr>\n",
       "      <th>Depression</th>\n",
       "      <td>15404</td>\n",
       "    </tr>\n",
       "    <tr>\n",
       "      <th>Normal</th>\n",
       "      <td>16343</td>\n",
       "    </tr>\n",
       "    <tr>\n",
       "      <th>Personality disorder</th>\n",
       "      <td>1077</td>\n",
       "    </tr>\n",
       "    <tr>\n",
       "      <th>Stress</th>\n",
       "      <td>2587</td>\n",
       "    </tr>\n",
       "    <tr>\n",
       "      <th>Suicidal</th>\n",
       "      <td>10652</td>\n",
       "    </tr>\n",
       "  </tbody>\n",
       "</table>\n",
       "</div>"
      ],
      "text/plain": [
       "                      statement\n",
       "status                         \n",
       "Anxiety                    3841\n",
       "Bipolar                    2777\n",
       "Depression                15404\n",
       "Normal                    16343\n",
       "Personality disorder       1077\n",
       "Stress                     2587\n",
       "Suicidal                  10652"
      ]
     },
     "execution_count": 6,
     "metadata": {},
     "output_type": "execute_result"
    }
   ],
   "source": [
    "df.groupby(\"status\").count()"
   ]
  },
  {
   "cell_type": "code",
   "execution_count": 7,
   "id": "3a1b5866-4fd7-4ff1-acf7-272d4c623888",
   "metadata": {},
   "outputs": [
    {
     "name": "stdout",
     "output_type": "stream",
     "text": [
      "Anxiety, 3841\n",
      "Suicidal, 10652\n",
      "Stress, 2587\n",
      "Bipolar, 2777\n",
      "Personality disorder, 1077\n"
     ]
    }
   ],
   "source": [
    "threshold = df.groupby(\"status\").count().quantile(0.7)\n",
    "\n",
    "threshold.values[0]\n",
    "\n",
    "for status in df[\"status\"].unique():\n",
    "    _data = df[df[\"status\"] == status]\n",
    "    if len(_data) < threshold.values[0]:\n",
    "        print(f\"{status}, {len(_data)}\")\n",
    "        n = threshold.values[0] // len(_data)\n",
    "        for _ in range(int(n)):\n",
    "            df = pd.concat((df, _data))"
   ]
  },
  {
   "cell_type": "code",
   "execution_count": 8,
   "id": "5a3be1db-56f0-4843-bf00-9bdc0e833fac",
   "metadata": {},
   "outputs": [
    {
     "data": {
      "text/html": [
       "<div>\n",
       "<style scoped>\n",
       "    .dataframe tbody tr th:only-of-type {\n",
       "        vertical-align: middle;\n",
       "    }\n",
       "\n",
       "    .dataframe tbody tr th {\n",
       "        vertical-align: top;\n",
       "    }\n",
       "\n",
       "    .dataframe thead th {\n",
       "        text-align: right;\n",
       "    }\n",
       "</style>\n",
       "<table border=\"1\" class=\"dataframe\">\n",
       "  <thead>\n",
       "    <tr style=\"text-align: right;\">\n",
       "      <th></th>\n",
       "      <th>statement</th>\n",
       "    </tr>\n",
       "    <tr>\n",
       "      <th>status</th>\n",
       "      <th></th>\n",
       "    </tr>\n",
       "  </thead>\n",
       "  <tbody>\n",
       "    <tr>\n",
       "      <th>Anxiety</th>\n",
       "      <td>15364</td>\n",
       "    </tr>\n",
       "    <tr>\n",
       "      <th>Bipolar</th>\n",
       "      <td>13885</td>\n",
       "    </tr>\n",
       "    <tr>\n",
       "      <th>Depression</th>\n",
       "      <td>15404</td>\n",
       "    </tr>\n",
       "    <tr>\n",
       "      <th>Normal</th>\n",
       "      <td>16343</td>\n",
       "    </tr>\n",
       "    <tr>\n",
       "      <th>Personality disorder</th>\n",
       "      <td>11847</td>\n",
       "    </tr>\n",
       "    <tr>\n",
       "      <th>Stress</th>\n",
       "      <td>12935</td>\n",
       "    </tr>\n",
       "    <tr>\n",
       "      <th>Suicidal</th>\n",
       "      <td>21304</td>\n",
       "    </tr>\n",
       "  </tbody>\n",
       "</table>\n",
       "</div>"
      ],
      "text/plain": [
       "                      statement\n",
       "status                         \n",
       "Anxiety                   15364\n",
       "Bipolar                   13885\n",
       "Depression                15404\n",
       "Normal                    16343\n",
       "Personality disorder      11847\n",
       "Stress                    12935\n",
       "Suicidal                  21304"
      ]
     },
     "execution_count": 8,
     "metadata": {},
     "output_type": "execute_result"
    }
   ],
   "source": [
    "df.groupby(\"status\").count()"
   ]
  },
  {
   "cell_type": "markdown",
   "id": "ce10b40b-94cd-451e-b26d-644aaa0622cf",
   "metadata": {},
   "source": [
    "#### Build datasets"
   ]
  },
  {
   "cell_type": "code",
   "execution_count": 9,
   "id": "8a56aa11-c025-4ff7-8976-9491a072e484",
   "metadata": {},
   "outputs": [],
   "source": [
    "DROPOUT = 0.2\n",
    "BATCH_SIZE = 64\n",
    "D_MODEL = 16\n",
    "FF_SIZE = 8\n",
    "EPOCH = 20"
   ]
  },
  {
   "cell_type": "code",
   "execution_count": 10,
   "id": "baf9ba19-3e21-498e-819d-6a8998cb8691",
   "metadata": {},
   "outputs": [],
   "source": [
    "max_length = int(df[\"statement\"].apply(len).quantile(0.9))\n",
    "max_length = 1562\n",
    "\n",
    "statements = df[\"statement\"].values\n",
    "labels = df[\"status\"].values\n",
    "\n",
    "label_encoder = LabelEncoder()\n",
    "encoded_labels = label_encoder.fit_transform(labels)\n",
    "\n",
    "train_statements, val_statements, train_labels, val_labels = train_test_split(statements, encoded_labels, test_size=0.2, random_state=42)"
   ]
  },
  {
   "cell_type": "code",
   "execution_count": 11,
   "id": "eb3c9066-01bb-47d2-973e-6f0bb1938b83",
   "metadata": {},
   "outputs": [],
   "source": [
    "def tokenization(text):\n",
    "    return tokenizer.encode(text).ids\n",
    "\n",
    "# Create datasets\n",
    "train_dataset = SentimentDataset(train_statements, train_labels, tokenizer=tokenization)\n",
    "val_dataset = SentimentDataset(val_statements, val_labels, tokenizer=tokenization)\n",
    "\n",
    "# Data loaders\n",
    "train_loader = DataLoader(train_dataset, batch_size=32, collate_fn=collate_fn, shuffle=True)\n",
    "val_loader = DataLoader(val_dataset, batch_size=32, collate_fn=collate_fn)"
   ]
  },
  {
   "cell_type": "code",
   "execution_count": 12,
   "id": "9ce50368-1cfc-47ce-99ff-e338d97a5d41",
   "metadata": {},
   "outputs": [],
   "source": [
    "# Instantiate the model\n",
    "vocab_size = 30000  # Based on simple_tokenizer, you may need to adjust this based on your tokenizer\n",
    "model = CustomTransformerModel(vocab_size=vocab_size, \n",
    "                               d_model=16, \n",
    "                               max_length=max_length,\n",
    "                               nhead=2, \n",
    "                               num_encoder_layers=4, \n",
    "                               num_classes=len(label_encoder.classes_), \n",
    "                               dropout=DROPOUT, \n",
    "                               dim_feedforward=FF_SIZE).to(device)"
   ]
  },
  {
   "cell_type": "markdown",
   "id": "0653ce83-4ed8-4eb8-b5c5-1a5b1a0834f5",
   "metadata": {},
   "source": [
    "### Model training loop"
   ]
  },
  {
   "cell_type": "code",
   "execution_count": 13,
   "id": "9322e966-118d-477c-ab50-d2eec078b7b9",
   "metadata": {},
   "outputs": [
    {
     "name": "stdout",
     "output_type": "stream",
     "text": [
      "16:10:52 PM: start training epoch 1...\n",
      "Epoch 1, Training loss: 1.307460, Train Accuracy: 47.21%; Validation Loss: 0.976432, Accuracy: 61.42%, Learning rate: 0.001\n",
      "16:11:44 PM: start training epoch 2...\n",
      "Epoch 2, Training loss: 0.797408, Train Accuracy: 70.13%; Validation Loss: 0.660837, Accuracy: 75.89%, Learning rate: 0.001\n",
      "16:12:37 PM: start training epoch 3...\n",
      "Epoch 3, Training loss: 0.568913, Train Accuracy: 79.12%; Validation Loss: 0.540600, Accuracy: 80.47%, Learning rate: 0.001\n",
      "16:13:29 PM: start training epoch 4...\n",
      "Epoch 4, Training loss: 0.449160, Train Accuracy: 83.37%; Validation Loss: 0.474393, Accuracy: 82.87%, Learning rate: 0.001\n",
      "16:14:22 PM: start training epoch 5...\n",
      "Epoch 5, Training loss: 0.369433, Train Accuracy: 86.26%; Validation Loss: 0.400539, Accuracy: 85.61%, Learning rate: 0.001\n",
      "16:15:15 PM: start training epoch 6...\n",
      "Epoch 6, Training loss: 0.316255, Train Accuracy: 88.08%; Validation Loss: 0.378805, Accuracy: 86.23%, Learning rate: 0.001\n",
      "16:16:09 PM: start training epoch 7...\n",
      "Epoch 7, Training loss: 0.276698, Train Accuracy: 89.50%; Validation Loss: 0.379650, Accuracy: 86.78%, Learning rate: 0.001\n",
      "16:17:03 PM: start training epoch 8...\n",
      "Epoch 8, Training loss: 0.248050, Train Accuracy: 90.63%; Validation Loss: 0.362079, Accuracy: 87.52%, Learning rate: 0.001\n",
      "16:17:57 PM: start training epoch 9...\n",
      "Epoch 9, Training loss: 0.221876, Train Accuracy: 91.68%; Validation Loss: 0.342121, Accuracy: 88.20%, Learning rate: 0.001\n",
      "16:18:50 PM: start training epoch 10...\n",
      "Epoch 10, Training loss: 0.203061, Train Accuracy: 92.55%; Validation Loss: 0.337846, Accuracy: 88.99%, Learning rate: 0.001\n",
      "16:19:43 PM: start training epoch 11...\n",
      "Epoch 11, Training loss: 0.184946, Train Accuracy: 93.20%; Validation Loss: 0.343104, Accuracy: 89.03%, Learning rate: 0.001\n",
      "16:20:36 PM: start training epoch 12...\n",
      "Epoch 12, Training loss: 0.167017, Train Accuracy: 93.82%; Validation Loss: 0.321402, Accuracy: 89.49%, Learning rate: 0.001\n",
      "16:21:30 PM: start training epoch 13...\n",
      "Epoch 13, Training loss: 0.152640, Train Accuracy: 94.39%; Validation Loss: 0.355666, Accuracy: 89.59%, Learning rate: 0.001\n",
      "16:22:23 PM: start training epoch 14...\n",
      "Epoch 14, Training loss: 0.138825, Train Accuracy: 95.05%; Validation Loss: 0.367647, Accuracy: 89.71%, Learning rate: 0.001\n",
      "16:23:18 PM: start training epoch 15...\n",
      "Epoch 15, Training loss: 0.127184, Train Accuracy: 95.53%; Validation Loss: 0.371293, Accuracy: 90.10%, Learning rate: 0.001\n",
      "16:24:12 PM: start training epoch 16...\n",
      "Epoch 16, Training loss: 0.118278, Train Accuracy: 95.95%; Validation Loss: 0.331914, Accuracy: 90.58%, Learning rate: 0.0005\n",
      "16:25:05 PM: start training epoch 17...\n",
      "Epoch 17, Training loss: 0.093301, Train Accuracy: 96.83%; Validation Loss: 0.370377, Accuracy: 90.63%, Learning rate: 0.0005\n",
      "16:25:59 PM: start training epoch 18...\n",
      "Epoch 18, Training loss: 0.087615, Train Accuracy: 97.07%; Validation Loss: 0.376526, Accuracy: 90.59%, Learning rate: 0.0005\n",
      "16:26:52 PM: start training epoch 19...\n",
      "Epoch 19, Training loss: 0.081555, Train Accuracy: 97.29%; Validation Loss: 0.379424, Accuracy: 90.74%, Learning rate: 0.0005\n",
      "16:27:45 PM: start training epoch 20...\n",
      "Epoch 20, Training loss: 0.075614, Train Accuracy: 97.49%; Validation Loss: 0.399213, Accuracy: 90.85%, Learning rate: 0.00025\n"
     ]
    }
   ],
   "source": [
    "# Define loss function and optimizer\n",
    "criterion = nn.CrossEntropyLoss()\n",
    "optimizer = torch.optim.Adam(model.parameters(), lr=0.001, weight_decay=0)\n",
    "scheduler = torch.optim.lr_scheduler.ReduceLROnPlateau(optimizer, mode='min', factor=0.5, patience=3, min_lr=1e-8)\n",
    "\n",
    "# Training loop\n",
    "num_epochs = EPOCH\n",
    "model.train()\n",
    "\n",
    "write = open(\"epoches.csv\", \"w\")\n",
    "writer = csv.writer(write)\n",
    "writer.writerow([f\"Dropout: {DROPOUT}, Batch_size: {BATCH_SIZE}, D_model: {D_MODEL}, Feed forward: {FF_SIZE}\"])\n",
    "\n",
    "try:\n",
    "    for epoch in range(num_epochs):\n",
    "        print(f\"{datetime.datetime.now().strftime('%H:%M:%S %p')}: start training epoch {epoch+1}...\")\n",
    "        total_losses = 0\n",
    "        correct = 0\n",
    "        total = 0\n",
    "        for inputs, labels in train_loader:\n",
    "            inputs, labels = inputs.to(device), labels.to(device)\n",
    "            optimizer.zero_grad()\n",
    "            outputs = model(inputs)\n",
    "            loss = criterion(outputs, labels)\n",
    "            loss.backward()\n",
    "            optimizer.step()\n",
    "            \n",
    "            total_losses += loss.item()                \n",
    "            \n",
    "            _, predicted = torch.max(outputs.data, 1)\n",
    "            correct += (predicted == labels).sum().item()\n",
    "            total += labels.size(0)\n",
    "        training_loss = total_losses/len(train_loader)\n",
    "        train_accuracy = 100 * correct / total\n",
    "              \n",
    "        # Optional: Evaluate on the validation set after each epoch\n",
    "        model.eval()\n",
    "        val_loss = 0\n",
    "        correct = 0\n",
    "        total = 0\n",
    "        with torch.no_grad():\n",
    "            for inputs, labels in val_loader:\n",
    "                inputs, labels = inputs.to(device), labels.to(device)        \n",
    "                outputs = model(inputs)\n",
    "                loss = criterion(outputs, labels)\n",
    "                val_loss += loss.item()\n",
    "                _, predicted = torch.max(outputs.data, 1)\n",
    "                total += labels.size(0)\n",
    "                correct += (predicted == labels).sum().item()\n",
    "                \n",
    "        scheduler.step(val_loss)\n",
    "        \n",
    "        print(f'Epoch {epoch+1}, Training loss: {training_loss:.6f}, Train Accuracy: {train_accuracy:.2f}%; Validation Loss: {val_loss/len(val_loader):.6f}, Accuracy: {100 * correct / total:.2f}%, Learning rate: {scheduler.get_last_lr()[0]}')\n",
    "        writer.writerow([f'Epoch {epoch+1}, Training loss: {training_loss:.6f}, Train Accuracy: {train_accuracy:.2f}%; Validation Loss: {val_loss/len(val_loader):.6f}, Accuracy: {100 * correct / total:.2f}%, Learning rate: {scheduler.get_last_lr()[0]}'])\n",
    "        model.train()\n",
    "except KeyboardInterrupt as e:\n",
    "    raise e\n",
    "finally:\n",
    "    write.close()\n",
    "    torch.save(model.state_dict(), \"model_state.pth\")"
   ]
  },
  {
   "cell_type": "markdown",
   "id": "604c4660-f4e0-4994-b828-fbc9193413ee",
   "metadata": {},
   "source": [
    "### Model Evaluation"
   ]
  },
  {
   "cell_type": "code",
   "execution_count": 14,
   "id": "a9a90e67-4c17-43ee-befc-aeb785e812f9",
   "metadata": {},
   "outputs": [
    {
     "data": {
      "text/plain": [
       "<All keys matched successfully>"
      ]
     },
     "execution_count": 14,
     "metadata": {},
     "output_type": "execute_result"
    }
   ],
   "source": [
    "model_state_dict = torch.load(\"model_state.pth\", weights_only=True)\n",
    "model.load_state_dict(model_state_dict)"
   ]
  },
  {
   "cell_type": "code",
   "execution_count": 15,
   "id": "2566e349-f5c1-429b-ac6a-790eba872392",
   "metadata": {},
   "outputs": [
    {
     "data": {
      "text/plain": [
       "CustomTransformerModel(\n",
       "  (embedding): Embedding(30000, 16)\n",
       "  (positional_embedding): Embedding(1562, 16)\n",
       "  (transformer_encoder): TransformerEncoder(\n",
       "    (layers): ModuleList(\n",
       "      (0-3): 4 x TransformerEncoderLayer(\n",
       "        (self_attn): MultiheadAttention(\n",
       "          (out_proj): NonDynamicallyQuantizableLinear(in_features=16, out_features=16, bias=True)\n",
       "        )\n",
       "        (linear1): Linear(in_features=16, out_features=8, bias=True)\n",
       "        (dropout): Dropout(p=0.2, inplace=False)\n",
       "        (linear2): Linear(in_features=8, out_features=16, bias=True)\n",
       "        (norm1): LayerNorm((16,), eps=1e-05, elementwise_affine=True)\n",
       "        (norm2): LayerNorm((16,), eps=1e-05, elementwise_affine=True)\n",
       "        (dropout1): Dropout(p=0.2, inplace=False)\n",
       "        (dropout2): Dropout(p=0.2, inplace=False)\n",
       "      )\n",
       "    )\n",
       "  )\n",
       "  (fc): Linear(in_features=16, out_features=7, bias=True)\n",
       ")"
      ]
     },
     "execution_count": 15,
     "metadata": {},
     "output_type": "execute_result"
    }
   ],
   "source": [
    "model.eval()"
   ]
  },
  {
   "cell_type": "code",
   "execution_count": null,
   "id": "819b6807-11ed-46b7-aa50-e1505fde0694",
   "metadata": {},
   "outputs": [],
   "source": [
    "# model.to(\"cpu\")"
   ]
  },
  {
   "cell_type": "code",
   "execution_count": 77,
   "id": "e9e13247-839c-43f5-8b71-d9ab30f854c7",
   "metadata": {},
   "outputs": [
    {
     "name": "stdout",
     "output_type": "stream",
     "text": [
      "Stress\n"
     ]
    }
   ],
   "source": [
    "input_statement = \"\"\"The model performed well, but can be improved on classes of 'Normal' and 'Depression'. \n",
    "With the original dataset without any augumentation, it can only reach 74% accuracy, but with augumentation to balance each class, it eventually reached 90% accuracy.\n",
    "Funny though the model thinks this statement is 'Stress'.\"\"\"\n",
    "\n",
    "tokens = tokenizer.encode(input_statement)\n",
    "res = model(torch.tensor(tokens.ids).view(1, -1).to(device))\n",
    "_, label = torch.max(res, 1)\n",
    "result = label_encoder.inverse_transform(label.to(\"cpu\"))[0]\n",
    "print(result)"
   ]
  },
  {
   "cell_type": "markdown",
   "id": "4d84f27d-fbab-4fc7-a77a-a36fd6f21667",
   "metadata": {},
   "source": [
    "#### Evaluation model performance"
   ]
  },
  {
   "cell_type": "code",
   "execution_count": 17,
   "id": "30b56f55-74a2-4bbd-a5ed-79e29a9079f7",
   "metadata": {},
   "outputs": [
    {
     "data": {
      "application/vnd.jupyter.widget-view+json": {
       "model_id": "259a660e4fb04d8b8986a6eb99d620bd",
       "version_major": 2,
       "version_minor": 0
      },
      "text/plain": [
       "  0%|          | 0/1647 [00:00<?, ?it/s]"
      ]
     },
     "metadata": {},
     "output_type": "display_data"
    },
    {
     "name": "stdout",
     "output_type": "stream",
     "text": [
      "Accuracy: 90.73%\n"
     ]
    }
   ],
   "source": [
    "df = pd.read_csv(file, index_col=0).dropna(how=\"any\", axis=0)\n",
    "statements = df[\"statement\"].values\n",
    "labels = df[\"status\"].values\n",
    "\n",
    "whole_dataset = SentimentDataset(statements, label_encoder.transform(labels), tokenizer=tokenization)\n",
    "whole_loader = DataLoader(whole_dataset, batch_size=32, collate_fn=collate_fn)\n",
    "\n",
    "\n",
    "from tqdm.auto import tqdm\n",
    "\n",
    "predicted_res = []\n",
    "correct, total = 0, 0\n",
    "with torch.no_grad():\n",
    "    for item, label_ in tqdm(whole_loader):\n",
    "        item = item.to(device)\n",
    "        label_ = label_.to(device)\n",
    "        outputs = model(item)\n",
    "        _, predicted = torch.max(outputs, 1)\n",
    "        total += label_.size(0)\n",
    "        correct += (predicted == label_).sum().item()\n",
    "        predicted_res += [predicted]\n",
    "\n",
    "accuracy = correct / total * 100\n",
    "\n",
    "predicted_res = torch.cat(predicted_res)\n",
    "\n",
    "print(f\"Accuracy: {accuracy:.2f}%\")"
   ]
  },
  {
   "cell_type": "code",
   "execution_count": 40,
   "id": "ea864f70-0032-4fcf-89c8-1eb7b0668930",
   "metadata": {},
   "outputs": [],
   "source": [
    "from sklearn.metrics import f1_score, recall_score, precision_score, confusion_matrix, ConfusionMatrixDisplay\n",
    "\n",
    "y_true, y_pred = whole_dataset.labels, predicted_res.to(\"cpu\").numpy()"
   ]
  },
  {
   "cell_type": "code",
   "execution_count": 19,
   "id": "2e0edf9d-d310-4c85-91ba-16cae2ffc88a",
   "metadata": {},
   "outputs": [
    {
     "data": {
      "text/plain": [
       "0.907582782592351"
      ]
     },
     "execution_count": 19,
     "metadata": {},
     "output_type": "execute_result"
    }
   ],
   "source": [
    "f1_score(y_true, y_pred, average=\"weighted\")"
   ]
  },
  {
   "cell_type": "code",
   "execution_count": 20,
   "id": "7c6b5250-60d7-487e-bc9c-171e3e552a41",
   "metadata": {},
   "outputs": [
    {
     "data": {
      "text/plain": [
       "0.9072720715248381"
      ]
     },
     "execution_count": 20,
     "metadata": {},
     "output_type": "execute_result"
    }
   ],
   "source": [
    "recall_score(y_true, y_pred, average=\"weighted\")"
   ]
  },
  {
   "cell_type": "code",
   "execution_count": 21,
   "id": "9164bd5b-6cf1-42a5-bec0-b3874dab759e",
   "metadata": {},
   "outputs": [],
   "source": [
    "r = {}\n",
    "\n",
    "for ground_truth, predicted_label in zip(y_true, y_pred):\n",
    "    r[ground_truth] = r.get(ground_truth, []) + [predicted_label]"
   ]
  },
  {
   "cell_type": "code",
   "execution_count": 61,
   "id": "e7f56cae-6154-49ec-afc0-b694879bdb49",
   "metadata": {},
   "outputs": [
    {
     "name": "stdout",
     "output_type": "stream",
     "text": [
      "Anxiety: f1_score: 0.9955740692527988, precission score: 0.9955740692527988\n",
      "Normal: f1_score: 0.8880254543229518, precission score: 0.8880254543229518\n",
      "Depression: f1_score: 0.8284861075045443, precission score: 0.8284861075045443\n",
      "Suicidal: f1_score: 0.963762673676305, precission score: 0.963762673676305\n",
      "Stress: f1_score: 0.9976807112485504, precission score: 0.9976807112485504\n",
      "Bipolar: f1_score: 0.9985595966870724, precission score: 0.9985595966870724\n",
      "Personality disorder: f1_score: 1.0, precission score: 1.0\n"
     ]
    }
   ],
   "source": [
    "for key, values in r.items():\n",
    "    score = f1_score(np.asarray([key]*len(values)), np.asarray(values), average=\"micro\")\n",
    "    precission = precision_score(np.asarray([key]*len(values)), np.asarray(values), average=\"micro\")\n",
    "    print(f\"\"\"{label_encoder.inverse_transform(np.array([key]))[0]}: f1_score: {score}, precission score: {precission}\"\"\")"
   ]
  },
  {
   "cell_type": "code",
   "execution_count": null,
   "id": "a82ecad9-770b-4503-b519-3e27ded41215",
   "metadata": {},
   "outputs": [],
   "source": [
    "import matplotlib.pyplot as plt\n",
    "import seaborn as sns"
   ]
  },
  {
   "cell_type": "code",
   "execution_count": 44,
   "id": "ed8dc70c-ec6e-44bd-b887-ca1011ef347d",
   "metadata": {},
   "outputs": [],
   "source": [
    "cm = confusion_matrix(y_true, y_pred)"
   ]
  },
  {
   "cell_type": "code",
   "execution_count": 46,
   "id": "f7c1e2f2-e6a9-4d8f-95e7-ed27049bcf13",
   "metadata": {},
   "outputs": [],
   "source": [
    "labels_display = label_encoder.inverse_transform([0, 1, 2, 3, 4, 5, 6])"
   ]
  },
  {
   "cell_type": "code",
   "execution_count": 57,
   "id": "1210e442-4359-4c01-8bcb-2d2704b38cc4",
   "metadata": {},
   "outputs": [],
   "source": [
    "disp = ConfusionMatrixDisplay(confusion_matrix(y_true, y_pred), display_labels=labels_display)"
   ]
  },
  {
   "cell_type": "code",
   "execution_count": 58,
   "id": "f31ab555-bb48-45fb-9b4c-ba0e25f7e788",
   "metadata": {},
   "outputs": [
    {
     "data": {
      "text/plain": [
       "<sklearn.metrics._plot.confusion_matrix.ConfusionMatrixDisplay at 0x79cfac0eb140>"
      ]
     },
     "execution_count": 58,
     "metadata": {},
     "output_type": "execute_result"
    },
    {
     "data": {
      "application/vnd.jupyter.widget-view+json": {
       "model_id": "35a3247c23594a00a55455bd60980128",
       "version_major": 2,
       "version_minor": 0
      },
      "image/png": "[encoded data removed]",
      "text/html": [
       "\n",
       "            <div style=\"display: inline-block;\">\n",
       "                <div class=\"jupyter-widgets widget-label\" style=\"text-align: center;\">\n",
       "                    Figure\n",
       "                </div>\n",
       "                <img src='data:image/png;base64,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' width=640.0/>\n",
       "            </div>\n",
       "        "
      ],
      "text/plain": [
       "Canvas(toolbar=Toolbar(toolitems=[('Home', 'Reset original view', 'home', 'home'), ('Back', 'Back to previous …"
      ]
     },
     "metadata": {},
     "output_type": "display_data"
    }
   ],
   "source": [
    "disp.plot()"
   ]
  },
  {
   "cell_type": "code",
   "execution_count": 59,
   "id": "6d7b8bc8-9f51-4634-9046-1652766a8ddf",
   "metadata": {},
   "outputs": [],
   "source": [
    "plt.tight_layout()"
   ]
  },
  {
   "cell_type": "code",
   "execution_count": 78,
   "id": "e0cf7232-72eb-45ed-bb58-b760af539c65",
   "metadata": {},
   "outputs": [],
   "source": [
    "plt.savefig(\"confusion_matrix.png\")"
   ]
  }
 ],
 "metadata": {
  "kernelspec": {
   "display_name": "kaggle",
   "language": "python",
   "name": "kaggle"
  },
  "language_info": {
   "codemirror_mode": {
    "name": "ipython",
    "version": 3
   },
   "file_extension": ".py",
   "mimetype": "text/x-python",
   "name": "python",
   "nbconvert_exporter": "python",
   "pygments_lexer": "ipython3",
   "version": "3.12.3"
  }
 },
 "nbformat": 4,
 "nbformat_minor": 5
}
